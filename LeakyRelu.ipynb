{
 "cells": [
  {
   "cell_type": "code",
   "execution_count": 1,
   "metadata": {},
   "outputs": [],
   "source": [
    "import os\n",
    "import numpy as np\n",
    "import torch\n",
    "import glob\n",
    "import torch.nn as nn\n",
    "from torchvision.transforms import transforms\n",
    "from torch.utils.data import DataLoader\n",
    "from torch.optim import Adam\n",
    "from torch.autograd import Variable\n",
    "import torchvision\n",
    "import torch.functional as F\n",
    "from io import open\n",
    "from PIL import Image\n",
    "import pathlib\n",
    "import cv2\n",
    "from torch.autograd import Variable\n",
    "from torchvision.models import squeezenet1_1"
   ]
  },
  {
   "cell_type": "code",
   "execution_count": 2,
   "metadata": {},
   "outputs": [],
   "source": [
    "#checking for device\n",
    "device=torch.device('cuda' if torch.cuda.is_available() else 'cpu')"
   ]
  },
  {
   "cell_type": "code",
   "execution_count": 3,
   "metadata": {},
   "outputs": [
    {
     "name": "stdout",
     "output_type": "stream",
     "text": [
      "cuda\n"
     ]
    }
   ],
   "source": [
    "print(device)"
   ]
  },
  {
   "cell_type": "code",
   "execution_count": 4,
   "metadata": {},
   "outputs": [],
   "source": [
    "transformer=transforms.Compose([\n",
    "    transforms.Resize((150,150)),\n",
    "    transforms.RandomHorizontalFlip(),\n",
    "    transforms.ToTensor(),  \n",
    "    transforms.Normalize([0.5,0.5,0.5],\n",
    "                        [0.5,0.5,0.5])\n",
    "])"
   ]
  },
  {
   "cell_type": "code",
   "execution_count": 5,
   "metadata": {},
   "outputs": [],
   "source": [
    "#Dataloader\n",
    "#Path for training and testing directory\n",
    "train_path='train'\n",
    "test_path='test'\n",
    "\n",
    "train_loader=DataLoader(\n",
    "    torchvision.datasets.ImageFolder(train_path,transform=transformer),\n",
    "    batch_size=10, shuffle=True\n",
    ")\n",
    "test_loader=DataLoader(\n",
    "    torchvision.datasets.ImageFolder(test_path,transform=transformer),\n",
    "    batch_size=10, shuffle=True\n",
    ")"
   ]
  },
  {
   "cell_type": "code",
   "execution_count": 6,
   "metadata": {},
   "outputs": [],
   "source": [
    "#categories\n",
    "root=pathlib.Path(train_path)\n",
    "classes=sorted([j.name.split('/')[-1] for j in root.iterdir()])"
   ]
  },
  {
   "cell_type": "code",
   "execution_count": 7,
   "metadata": {},
   "outputs": [
    {
     "name": "stdout",
     "output_type": "stream",
     "text": [
      "['banana', 'bucket', 'elephant', 'keyboard', 'orange', 'penguin', 'pizza', 'schoolbus', 'tea', 'tower']\n"
     ]
    }
   ],
   "source": [
    "print(classes)"
   ]
  },
  {
   "cell_type": "code",
   "execution_count": 8,
   "metadata": {},
   "outputs": [],
   "source": [
    "#CNN Network\n",
    "\n",
    "\n",
    "class ConvNet(nn.Module):\n",
    "    def __init__(self,num_classes=10):\n",
    "        super(ConvNet,self).__init__()\n",
    "        \n",
    "        #Output size after convolution filter\n",
    "        #((w-f+2P)/s) +1\n",
    "        \n",
    "        #Input shape= (10,3,64,64)\n",
    "        \n",
    "        self.conv1=nn.Conv2d(in_channels=3,out_channels=12,kernel_size=3,stride=1,padding=1)\n",
    "        #Shape= (10,12,64,64) #Shape= (10,12,100,100)\n",
    "        self.bn1=nn.BatchNorm2d(num_features=12)\n",
    "        #Shape= (10,12,64,64) #Shape= (10,12,100,100)\n",
    "        self.lrelu1=nn.LeakyReLU()\n",
    "        #Shape= (10,12,64,64) #Shape= (10,12,100,100)\n",
    "        \n",
    "        self.pool=nn.MaxPool2d(kernel_size=2)\n",
    "        #Reduce the image size be factor 2\n",
    "        #Shape= (10,12,32,32) #Shape= (10,12,50,50)\n",
    "        \n",
    "        \n",
    "        self.conv2=nn.Conv2d(in_channels=12,out_channels=20,kernel_size=3,stride=1,padding=1)\n",
    "        #Shape= (10,20,32,32) #Shape= (10,20,50,50)\n",
    "        self.lrelu2=nn.LeakyReLU()\n",
    "       #Shape= (10,20,32,32) #Shape= (10,20,50,50)\n",
    "        \n",
    "        \n",
    "        \n",
    "        self.conv3=nn.Conv2d(in_channels=20,out_channels=32,kernel_size=3,stride=1,padding=1)\n",
    "        #Shape= (10,32,32,32) #Shape= (10,32,50,50)\n",
    "        self.bn3=nn.BatchNorm2d(num_features=32)\n",
    "         #Shape= (10,32,32,32) #Shape= (10,32,50,50)\n",
    "        self.lrelu3=nn.LeakyReLU()\n",
    "         #Shape= (10,32,32,32) #Shape= (10,32,50,50)\n",
    "        \n",
    "        \n",
    "        self.fc=nn.Linear(in_features=75*75*32,out_features=num_classes)\n",
    "        \n",
    "        \n",
    "        \n",
    "        #Feed forwad function\n",
    "        \n",
    "    def forward(self,input):\n",
    "        output=self.conv1(input)\n",
    "        output=self.bn1(output)\n",
    "        output=self.lrelu1(output)\n",
    "            \n",
    "        output=self.pool(output)\n",
    "            \n",
    "        output=self.conv2(output)\n",
    "        output=self.lrelu2(output)\n",
    "            \n",
    "        output=self.conv3(output)\n",
    "        output=self.bn3(output)\n",
    "        output=self.lrelu3(output)\n",
    "            \n",
    "            \n",
    "            #Above output will be in matrix form, with shape (256,32,75,75)\n",
    "            \n",
    "        output=output.view(-1,75*75*32)\n",
    "            \n",
    "            \n",
    "        output=self.fc(output)\n",
    "            \n",
    "        return output"
   ]
  },
  {
   "cell_type": "code",
   "execution_count": 9,
   "metadata": {},
   "outputs": [],
   "source": [
    "model=ConvNet(num_classes=10).to(device)"
   ]
  },
  {
   "cell_type": "code",
   "execution_count": 10,
   "metadata": {},
   "outputs": [],
   "source": [
    "#Optmizer and loss function\n",
    "optimizer=Adam(model.parameters(),lr=0.0001,weight_decay=0.00001)\n",
    "loss_function=nn.CrossEntropyLoss()"
   ]
  },
  {
   "cell_type": "code",
   "execution_count": 11,
   "metadata": {},
   "outputs": [],
   "source": [
    "num_epochs=5"
   ]
  },
  {
   "cell_type": "code",
   "execution_count": 12,
   "metadata": {},
   "outputs": [],
   "source": [
    "#calculating the size of training and testing images\n",
    "train_count=len(glob.glob(train_path+'/**/*.JPEG'))\n",
    "test_count=len(glob.glob(test_path+'/**/*.JPEG'))"
   ]
  },
  {
   "cell_type": "code",
   "execution_count": 13,
   "metadata": {},
   "outputs": [
    {
     "name": "stdout",
     "output_type": "stream",
     "text": [
      "500 100\n"
     ]
    }
   ],
   "source": [
    "print(train_count,test_count)"
   ]
  },
  {
   "cell_type": "code",
   "execution_count": 14,
   "metadata": {},
   "outputs": [
    {
     "name": "stdout",
     "output_type": "stream",
     "text": [
      "Epoch: 0 Train Loss: tensor(3.3126) Train Accuracy: 0.384 Test Accuracy: 0.03\n",
      "Epoch: 1 Train Loss: tensor(1.2982) Train Accuracy: 0.678 Test Accuracy: 0.03\n",
      "Epoch: 2 Train Loss: tensor(0.8622) Train Accuracy: 0.802 Test Accuracy: 0.03\n",
      "Epoch: 3 Train Loss: tensor(0.4233) Train Accuracy: 0.86 Test Accuracy: 0.03\n",
      "Epoch: 4 Train Loss: tensor(0.2488) Train Accuracy: 0.914 Test Accuracy: 0.05\n"
     ]
    }
   ],
   "source": [
    "#Model training and saving best model\n",
    "\n",
    "best_accuracy=0.0\n",
    "\n",
    "for epoch in range(num_epochs):\n",
    "    \n",
    "    #Evaluation and training on training dataset\n",
    "    model.train()\n",
    "    train_accuracy=0.0\n",
    "    train_loss=0.0\n",
    "    \n",
    "    for i, (images,labels) in enumerate(train_loader):\n",
    "        if torch.cuda.is_available():\n",
    "            images=Variable(images.cuda())\n",
    "            labels=Variable(labels.cuda())\n",
    "            \n",
    "        optimizer.zero_grad()\n",
    "        \n",
    "        outputs=model(images)\n",
    "        loss=loss_function(outputs,labels)\n",
    "        loss.backward()\n",
    "        optimizer.step()\n",
    "        \n",
    "        \n",
    "        train_loss+= loss.cpu().data*images.size(0)\n",
    "        _,prediction=torch.max(outputs.data,1)\n",
    "        \n",
    "        train_accuracy+=int(torch.sum(prediction==labels.data))\n",
    "        \n",
    "    train_accuracy=train_accuracy/train_count\n",
    "    train_loss=train_loss/train_count\n",
    "    \n",
    "    \n",
    "    # Evaluation on testing dataset\n",
    "    model.eval()\n",
    "    \n",
    "    test_accuracy=0.0\n",
    "    for i, (images,labels) in enumerate(test_loader):\n",
    "        if torch.cuda.is_available():\n",
    "            images=Variable(images.cuda())\n",
    "            labels=Variable(labels.cuda())\n",
    "            \n",
    "        outputs=model(images)\n",
    "        _,prediction=torch.max(outputs.data,1)\n",
    "        test_accuracy+=int(torch.sum(prediction==labels.data))\n",
    "    \n",
    "    test_accuracy=test_accuracy/test_count\n",
    "    \n",
    "    \n",
    "    print('Epoch: '+str(epoch)+' Train Loss: '+str(train_loss)+' Train Accuracy: '+str(train_accuracy)+' Test Accuracy: '+str(test_accuracy))\n",
    "    \n",
    "    #Save the best model\n",
    "    if test_accuracy>best_accuracy:\n",
    "        torch.save(model.state_dict(),'best_checkpoint3.model')\n",
    "        best_accuracy=test_accuracy"
   ]
  },
  {
   "cell_type": "code",
   "execution_count": 15,
   "metadata": {},
   "outputs": [],
   "source": [
    "pred_path='prediction'"
   ]
  },
  {
   "cell_type": "code",
   "execution_count": 16,
   "metadata": {},
   "outputs": [
    {
     "data": {
      "text/plain": [
       "ConvNet(\n",
       "  (conv1): Conv2d(3, 12, kernel_size=(3, 3), stride=(1, 1), padding=(1, 1))\n",
       "  (bn1): BatchNorm2d(12, eps=1e-05, momentum=0.1, affine=True, track_running_stats=True)\n",
       "  (lrelu1): LeakyReLU(negative_slope=0.01)\n",
       "  (pool): MaxPool2d(kernel_size=2, stride=2, padding=0, dilation=1, ceil_mode=False)\n",
       "  (conv2): Conv2d(12, 20, kernel_size=(3, 3), stride=(1, 1), padding=(1, 1))\n",
       "  (lrelu2): LeakyReLU(negative_slope=0.01)\n",
       "  (conv3): Conv2d(20, 32, kernel_size=(3, 3), stride=(1, 1), padding=(1, 1))\n",
       "  (bn3): BatchNorm2d(32, eps=1e-05, momentum=0.1, affine=True, track_running_stats=True)\n",
       "  (lrelu3): LeakyReLU(negative_slope=0.01)\n",
       "  (fc): Linear(in_features=180000, out_features=10, bias=True)\n",
       ")"
      ]
     },
     "execution_count": 16,
     "metadata": {},
     "output_type": "execute_result"
    }
   ],
   "source": [
    "checkpoint=torch.load('best_checkpoint3.model')\n",
    "model=ConvNet(num_classes=10)\n",
    "model.load_state_dict(checkpoint)\n",
    "model.eval()"
   ]
  },
  {
   "cell_type": "code",
   "execution_count": 17,
   "metadata": {},
   "outputs": [],
   "source": [
    "#prediction function\n",
    "def prediction(img_path,transformer):\n",
    "    \n",
    "    image=Image.open(img_path)\n",
    "    \n",
    "    image_tensor=transformer(image).float()\n",
    "    \n",
    "    \n",
    "    image_tensor=image_tensor.unsqueeze_(0)\n",
    "    \n",
    "    if torch.cuda.is_available():\n",
    "        image_tensor.cuda()\n",
    "        \n",
    "    input=Variable(image_tensor)\n",
    "    \n",
    "    \n",
    "    output=model(input)\n",
    "    \n",
    "    index=output.data.numpy().argmax()\n",
    "    \n",
    "    pred=classes[index]\n",
    "    \n",
    "    return pred"
   ]
  },
  {
   "cell_type": "code",
   "execution_count": 18,
   "metadata": {},
   "outputs": [],
   "source": [
    "images_path=glob.glob(pred_path+'/*.JPEG')"
   ]
  },
  {
   "cell_type": "code",
   "execution_count": 19,
   "metadata": {},
   "outputs": [],
   "source": [
    "pred_dict={}\n",
    "\n",
    "for i in images_path:\n",
    "    pred_dict[i[i.rfind('/')+1:]]=prediction(i,transformer)"
   ]
  },
  {
   "cell_type": "code",
   "execution_count": 20,
   "metadata": {},
   "outputs": [
    {
     "data": {
      "text/plain": [
       "{'prediction\\\\1.JPEG': 'keyboard',\n",
       " 'prediction\\\\10.JPEG': 'tower',\n",
       " 'prediction\\\\12.JPEG': 'orange',\n",
       " 'prediction\\\\13.JPEG': 'bucket',\n",
       " 'prediction\\\\14.JPEG': 'banana',\n",
       " 'prediction\\\\15.JPEG': 'tower',\n",
       " 'prediction\\\\16.JPEG': 'penguin',\n",
       " 'prediction\\\\17.JPEG': 'orange',\n",
       " 'prediction\\\\18.JPEG': 'tea',\n",
       " 'prediction\\\\19.JPEG': 'orange',\n",
       " 'prediction\\\\2.JPEG': 'orange',\n",
       " 'prediction\\\\20.JPEG': 'keyboard',\n",
       " 'prediction\\\\21.JPEG': 'keyboard',\n",
       " 'prediction\\\\22.JPEG': 'schoolbus',\n",
       " 'prediction\\\\23.JPEG': 'pizza',\n",
       " 'prediction\\\\24.JPEG': 'pizza',\n",
       " 'prediction\\\\25.JPEG': 'tower',\n",
       " 'prediction\\\\26.JPEG': 'keyboard',\n",
       " 'prediction\\\\27.JPEG': 'orange',\n",
       " 'prediction\\\\28.JPEG': 'pizza',\n",
       " 'prediction\\\\29.JPEG': 'schoolbus',\n",
       " 'prediction\\\\3.JPEG': 'pizza',\n",
       " 'prediction\\\\30.JPEG': 'banana',\n",
       " 'prediction\\\\31.JPEG': 'banana',\n",
       " 'prediction\\\\32.JPEG': 'tea',\n",
       " 'prediction\\\\33.JPEG': 'pizza',\n",
       " 'prediction\\\\34.JPEG': 'orange',\n",
       " 'prediction\\\\35.JPEG': 'keyboard',\n",
       " 'prediction\\\\36.JPEG': 'elephant',\n",
       " 'prediction\\\\37.JPEG': 'pizza',\n",
       " 'prediction\\\\38.JPEG': 'elephant',\n",
       " 'prediction\\\\39.JPEG': 'tea',\n",
       " 'prediction\\\\4.JPEG': 'pizza',\n",
       " 'prediction\\\\40.JPEG': 'tea',\n",
       " 'prediction\\\\41.JPEG': 'schoolbus',\n",
       " 'prediction\\\\42.JPEG': 'tea',\n",
       " 'prediction\\\\43.JPEG': 'keyboard',\n",
       " 'prediction\\\\44.JPEG': 'penguin',\n",
       " 'prediction\\\\45.JPEG': 'pizza',\n",
       " 'prediction\\\\46.JPEG': 'elephant',\n",
       " 'prediction\\\\47.JPEG': 'tea',\n",
       " 'prediction\\\\48.JPEG': 'bucket',\n",
       " 'prediction\\\\49.JPEG': 'elephant',\n",
       " 'prediction\\\\5.JPEG': 'penguin',\n",
       " 'prediction\\\\50.JPEG': 'pizza',\n",
       " 'prediction\\\\6.JPEG': 'keyboard',\n",
       " 'prediction\\\\7.JPEG': 'keyboard',\n",
       " 'prediction\\\\8.JPEG': 'tower',\n",
       " 'prediction\\\\9.JPEG': 'tower'}"
      ]
     },
     "execution_count": 20,
     "metadata": {},
     "output_type": "execute_result"
    }
   ],
   "source": [
    "pred_dict"
   ]
  }
 ],
 "metadata": {
  "kernelspec": {
   "display_name": "Python 3 (ipykernel)",
   "language": "python",
   "name": "python3"
  },
  "language_info": {
   "codemirror_mode": {
    "name": "ipython",
    "version": 3
   },
   "file_extension": ".py",
   "mimetype": "text/x-python",
   "name": "python",
   "nbconvert_exporter": "python",
   "pygments_lexer": "ipython3",
   "version": "3.10.4"
  },
  "vscode": {
   "interpreter": {
    "hash": "4fbc0d947eaf72472870e97615f0a91e96587ef360d5dee6574c34fa65f37b07"
   }
  }
 },
 "nbformat": 4,
 "nbformat_minor": 2
}
